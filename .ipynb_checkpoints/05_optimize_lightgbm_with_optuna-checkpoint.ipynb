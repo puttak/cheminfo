{
 "cells": [
  {
   "cell_type": "code",
   "execution_count": null,
   "metadata": {},
   "outputs": [],
   "source": [
    "import numpy as np\n",
    "import sklearn.datasets\n",
    "import sklearn.metrics\n",
    "from sklearn.model_selection import train_test_split\n",
    "import optuna.integration.lightgbm as lgb\n",
    "\n",
    "print(\"start loading...\")\n",
    "y= np.loadtxt(\"rt_datasets_ecfp4_descriptors_y.csv\", delimiter=',', dtype='float64')\n",
    "x= np.loadtxt(\"rt_datasets_ecfp4_descriptors_x.csv\",delimiter=',', dtype='int8')\n",
    "print(\"loaded...\")"
   ]
  },
  {
   "cell_type": "code",
   "execution_count": null,
   "metadata": {},
   "outputs": [],
   "source": [
    "train_x, valid_x, train_y, valid_y = train_test_split(x[:,1:], y[:,1:].flatten(), test_size=0.25)\n",
    "\n",
    "trains = lgb.Dataset(train_x, train_y)\n",
    "valids = lgb.Dataset(valid_x, valid_y)\n",
    "\n",
    "params = {\n",
    "    'objective': 'mean_squared_error',\n",
    "    'metric': 'rmse'\n",
    "}\n",
    "\n",
    "best_params, history = {}, []\n",
    "model = lgb.train(params, trains, valid_sets=valids,\n",
    "                    verbose_eval=False,\n",
    "                    num_boost_round=150,\n",
    "                    early_stopping_rounds=5,\n",
    "                    best_params=best_params,\n",
    "                    tuning_history=history)"
   ]
  },
  {
   "cell_type": "code",
   "execution_count": null,
   "metadata": {},
   "outputs": [],
   "source": [
    "best_params"
   ]
  }
 ],
 "metadata": {
  "kernelspec": {
   "display_name": "Python 3",
   "language": "python",
   "name": "python3"
  },
  "language_info": {
   "codemirror_mode": {
    "name": "ipython",
    "version": 3
   },
   "file_extension": ".py",
   "mimetype": "text/x-python",
   "name": "python",
   "nbconvert_exporter": "python",
   "pygments_lexer": "ipython3",
   "version": "3.7.6"
  }
 },
 "nbformat": 4,
 "nbformat_minor": 4
}
